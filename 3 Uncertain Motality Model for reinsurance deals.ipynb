{
 "cells": [
  {
   "cell_type": "markdown",
   "metadata": {},
   "source": [
    "### Nonlinear Option Pricing (MATHGR5400), Columbia University, Spring 2020\n",
    "# Homework III\n",
    "\n",
    "### Due Date: 11:55 PM Thursday, April 2, 2020\n",
    "You should turn in the notebook at Columbia CourseWorks website\n",
    "\n",
    "Please comment your code properly.\n",
    "\n",
    "Before you turn in the notebook, press the \"Run all cells\" button in the toolbar, and make sure all the calculation results and graphs are produced correctly in a reasonable time frame, and then save the notebook."
   ]
  },
  {
   "cell_type": "markdown",
   "metadata": {},
   "source": [
    "# Uncertain Mortality Model vs American Options"
   ]
  },
  {
   "cell_type": "markdown",
   "metadata": {},
   "source": [
    "** Re-insurance Deals**\n",
    "\n",
    "In this assignment, we study the *Uncertain Mortality Model* for the pricing of reinsurance deals. For the sake of simplicity, in this assignment we only consider one type of default: the risk of death.\n",
    "\n",
    "We consider the following reinsurance product:\n",
    "\n",
    "- At maturity, if the insurance subscriber is alive, the issuer delivers a put on the underlying $X$\n",
    "\n",
    "$$\n",
    "u^\\textrm{mat}( x) = (K_\\textrm{mat} - x)_+.\n",
    "$$\n",
    "\n",
    "- At the time of death, if it is before the maturity, the issuer delivers an exit payoff, typically another put on the underlying $X$.\n",
    "\n",
    "$$\n",
    "u^D(t, x) = (K_D - x)_+.\n",
    "$$\n",
    "\n",
    "- The subscriber pays a constant fee $α\\Delta t$ at every time step until death or the maturity or the product\n",
    "\n",
    "- The insurance sells a large number of these contracts to subscribers. We assume that the times of death of the subscribers $\\tau^D$ are independent, and identically distributed, and also independent of the underlying's stock price.\n",
    "\n",
    "- We assume that the underlying's risk neutral price dynamics is the Black-Scholes model with zero interest rate/repo/dividend yield\n",
    "\n",
    "$$\n",
    "dX_t = \\sigma X_t d W_t.\n",
    "$$\n",
    "\n",
    "** The Insurers' Approach and Risk-Neutral Pricing**\n",
    "\n",
    "This contract shows two types of risk: the times of death of the subscribers and the changes in the price of the underlying. \n",
    "\n",
    "In this case, the issuer can apply the insurer's approach to the risk of death times, i.e., the law of large numbers. The more people buy the contract, the less risk.\n",
    "\n",
    "Choosing a risk-neutral measure under which the death times $\\tau^D$ have the same distribution as under the historical probability measure is equivalent to applying the arbitrage-pricing approach to the financial risk insurer's rule on the risk of death. The price of the contract is then\n",
    "\n",
    "$$\n",
    "u(t, x) = \\mathbb{E}^\\mathbb{Q}_{t, x} \\left[u^\\textrm{mat}(X_T) \\mathbb{1}_{\\tau^D \\geq T} -\\int_t^T\\alpha\\mathbb{1}_{\\tau^D>s}ds+ u^D(\\tau^D, X_{\\tau^D}) \\mathbb{1}_{\\tau^D < T} \\right].\n",
    "$$\n",
    "\n",
    "** Deterministic Death Rate **\n",
    "\n",
    "If the death intensity is a deterministic function $\\lambda_t^D$ (i.e. $\\tau^D$ has an exponential distribution with time-dependent intensity $\\lambda_t^D$), then we have seen that $u$ is the solution to the linear PDE\n",
    "\n",
    "$$\n",
    "\\left\\{\\begin{array}{l}\n",
    "\\partial_t u + \\frac{1}{2} \\sigma^2 x^2 \\partial_x^2 u -\\alpha + \\lambda_t^D \\cdot (u^D - u) = 0,\\\\\n",
    "u(T, \\cdot) \\equiv u^\\textrm{mat}.\n",
    "\\end{array}\\right.\n",
    "$$\n",
    "\n",
    "** Uncertain Mortality Model **\n",
    "\n",
    "If the death rate is uncertain, we assume that it is adapted (i.e., it does not look into the future) and belongs to a moving corridor\n",
    "$\\left[\\underline{\\lambda}_t, \\overline{\\lambda}_t\\right]$. The most conservative way to price the contract is to compute the (financially) worst death rate process $\\lambda_t^D$ as being chosen so as to maximize the value of the contract. The resulting HJB equation is\n",
    "\n",
    "$$\n",
    "\\left\\{\\begin{array}{l}\n",
    "\\partial_t u + \\frac{1}{2} \\sigma^2 x^2 \\partial^2_x u -\\alpha + \\Lambda^D(t, u^D - u) \\cdot (u^D - u) = 0,\\\\\n",
    "u(T, \\cdot) \\equiv u^\\textrm{mat},\n",
    "\\end{array}\\right.\n",
    "$$\n",
    "where the function $\\Lambda^D$ is defined by\n",
    "$$\n",
    "\\Lambda^D (t, y) = \\left\\{\\begin{array}{l}\n",
    "    \\overline{\\lambda}^D_t \\quad \\textrm{if} \\ y \\geq 0, \\\\\n",
    "    \\underline{\\lambda}^D_t \\quad \\textrm{otherwise.}\n",
    "\\end{array}\\right.\n",
    "$$"
   ]
  },
  {
   "cell_type": "markdown",
   "metadata": {},
   "source": [
    "## Link with $1$-BSDE and Numerical Schemes\n",
    "\n",
    "From the Pardoux-Peng theorem, we know that the solution $u(0, x)$ can be represented as the solution $Y_0^x$ to the $1$-BSDE\n",
    "\n",
    "$$\n",
    "dY_t = -f(t, X_t, Y_t, Z_t) \\, dt + Z_t \\, dW_t,\n",
    "$$\n",
    "\n",
    "with the terminal condition $Y_T = u^\\textrm{mat} (X_T)$, where $X_0 = x$ and\n",
    "\n",
    "$$\n",
    "f(t, x, y, z) = -\\alpha + \\Lambda^D(t, u^D(t, x) - y) \\cdot (u^D(t, x) - y).\n",
    "$$\n",
    "\n",
    "\n",
    "## BSDE Discretization\n",
    "\n",
    "### Explicit Euler Schemes\n",
    "\n",
    "\\begin{align*}\n",
    "Y_{t_n} =& \\ u^{\\text{mat}}\\left(X_{t_n}\\right)\\\\\n",
    "Y_{t_{i - 1}} =& \\ \\mathbb{E}^\\mathbb{Q}_{i - 1} [ Y_{t_i} ] -\\alpha\\Delta t_i + \\Lambda^D \\left(t_{i - 1}, u^D(t_{i - 1} , X_{t_{i - 1}}) - \\mathbb{E}^\\mathbb{Q}_{i - 1} [ Y_{t_i} ]\\right) \\cdot \\left( u^D(t_{i - 1}, X_{t_{i - 1}}) - \\mathbb{E}^\\mathbb{Q}_{i - 1} [ Y_{t_i} ] \\right) \\Delta t_i\\\\\n",
    "=& -\\alpha\\Delta t_i + \\left( \\mathbb{E}^\\mathbb{Q}_{i - 1} [ Y_{t_i} ] \\left( 1 - \\overline{\\lambda}^D \\Delta t_i \\right) +\n",
    "u^D(t_{i - 1}, X_{t_{i - 1}}) \\overline{\\lambda}^D \\Delta t_i \\right) \\mathbb{1}_{u^D\\left(t_{i - 1}, X_{t_{i - 1}}\\right) \\geq \\mathbb{E}_{i-1}[Y_{t_i}]}\\\\\n",
    "& + \\left( \\mathbb{E}^\\mathbb{Q}_{i - 1} [ Y_{t_i} ] \\left( 1 - \\underline{\\lambda}^D \\Delta t_i \\right) +\n",
    "u^D(t_{i - 1}, X_{t_{i - 1}}) \\underline{\\lambda}^D \\Delta t_i \\right) \\mathbb{1}_{u^D\\left(t_{i - 1}, X_{t_{i - 1}}\\right) < \\mathbb{E}_{i-1}[Y_{t_i}]}.\n",
    "\\end{align*}\n",
    "\n",
    "### Implicit Euler Scheme\n",
    "\n",
    "\\begin{align*}\n",
    "Y_{t_n} =& \\ u^{\\text{mat}}\\left(X_{t_n}\\right)\\\\\n",
    "Y_{t_{i - 1}} =& \\ \\mathbb{E}^\\mathbb{Q}_{i - 1} [Y_{t_i}] -\\alpha\\Delta t_i+ \\Lambda^D \\left(t_{i - 1}, u^D(t_{i - 1}, X_{t_{i - 1}}) - Y_{t_{i - 1}}\\right) \\cdot \\left( u^D(t_{i - 1}, X_{t_{i - 1}}) - Y_{t_{i - 1}} \\right) \\Delta t_i.\n",
    "\\end{align*}\n",
    "\n",
    "The implicit scheme involves $Y_{t_{i - 1}}$ on both sides of the equation, which generally requires a root-finding routine to find $Y_{t_{i - 1}}$. However in this specific case, it can be shown that \n",
    "\n",
    "\\begin{equation}u^D(t_{i-1}, X_{t_{i-1}}) \\geq Y_{t_{i-1}}\\quad\\text{if and only if}\\quad u^D(t_{i-1}, X_{t_{i-1}}) \\geq \\mathbb{E}^{\\mathbb{Q}}_{i-1}\\left[Y_{t_i}\\right]-\\alpha\\Delta t_i.\\end{equation}\n",
    "\n",
    "Thus\n",
    "\n",
    "\\begin{split}\n",
    "Y_{t_{i - 1}} =& \\frac{1}{1 + \\overline{\\lambda}^D \\Delta t_i} \\left( \\mathbb{E}^\\mathbb{Q}_{i - 1} [ Y_{t_i} ] - \\alpha\\Delta t_i +\n",
    "u^D(t_{i - 1}, X_{t_{i - 1}}) \\overline{\\lambda}^D \\Delta t_i \\right) \\mathbb{1}_{u^D\\left(t_{i - 1}, X_{t_{i - 1}}\\right) \\geq \\mathbb{E}_{i-1}[Y_{t_i}]-\\alpha\\Delta t_i}\\\\\n",
    "& + \\frac{1}{1 + \\underline{\\lambda}^D \\Delta t_i} \\left( \\mathbb{E}^\\mathbb{Q}_{i - 1} [ Y_{t_i} ] -\\alpha\\Delta t_i +\n",
    "u^D(t_{i - 1}, X_{t_{i - 1}}) \\underline{\\lambda}^D \\Delta t_i \\right) \\mathbb{1}_{u^D(t_{i - 1}, X_{t_{i - 1}}) < \\mathbb{E}_{i-1}[Y_{t_i}]-\\alpha\\Delta t_i}.\n",
    "\\end{split}\n",
    "\n"
   ]
  },
  {
   "cell_type": "code",
   "execution_count": 1,
   "metadata": {},
   "outputs": [],
   "source": [
    "%matplotlib inline\n",
    "import matplotlib.pyplot as plt\n",
    "import numpy as np\n",
    "from scipy.stats import norm"
   ]
  },
  {
   "cell_type": "code",
   "execution_count": 2,
   "metadata": {},
   "outputs": [],
   "source": [
    "def blackscholes_mc(S=100, vol=0.2, r=0, q=0, ts=np.linspace(0, 1, 13), npaths=10):\n",
    "    \"\"\"Generate Monte-Carlo paths in Black-Scholes model.\n",
    "\n",
    "    Parameters\n",
    "    ----------\n",
    "    S: scalar\n",
    "        The spot price of the underlying security.\n",
    "    vol: scalar\n",
    "        The implied Black-Scholes volatility.\n",
    "    r: scalar\n",
    "        The annualized risk-free interest rate, continuously compounded.\n",
    "    q: scalar\n",
    "        The annualized continuous dividend yield.\n",
    "    ts: array_like\n",
    "        The time steps of the simualtion\n",
    "    npaths: int\n",
    "        the number of paths to simulate\n",
    "\n",
    "    Returns\n",
    "    -------\n",
    "    paths: ndarray\n",
    "        The Monte-Carlo paths.\n",
    "    \"\"\"\n",
    "    nsteps = len(ts) - 1\n",
    "    ts = np.asfarray(ts)[:, np.newaxis]\n",
    "    W = np.cumsum(np.vstack((np.zeros((1, npaths), dtype=np.float),\n",
    "                             np.random.randn(nsteps, npaths) * np.sqrt(np.diff(ts, axis=0)))),\n",
    "                  axis=0)\n",
    "    paths = np.exp(-0.5*vol**2*ts + vol*W)*S*np.exp((r-q)*ts)\n",
    "    return paths\n",
    "\n",
    "def blackscholes_price(K, T, S, vol, r=0, q=0, callput='call'):\n",
    "    \"\"\"Compute the call/put option price in the Black-Scholes model\n",
    "    \n",
    "    Parameters\n",
    "    ----------\n",
    "    K: scalar or array_like\n",
    "        The strike of the option.\n",
    "    T: scalar or array_like\n",
    "        The maturity of the option, expressed in years (e.g. 0.25 for 3-month and 2 for 2 years)\n",
    "    S: scalar or array_like\n",
    "        The current price of the underlying asset.\n",
    "    vol: scalar or array_like\n",
    "        The implied Black-Scholes volatility.\n",
    "    r: scalar or array_like\n",
    "        The annualized risk-free interest rate, continuously compounded.\n",
    "    q: scalar or array_like\n",
    "        The annualized continuous dividend yield.\n",
    "    callput: str\n",
    "        Must be either 'call' or 'put'.\n",
    "\n",
    "    Returns\n",
    "    -------\n",
    "    price: scalar or array_like\n",
    "        The price of the option.\n",
    "\n",
    "    Examples\n",
    "    --------\n",
    "    >>> blackscholes_price(95, 0.25, 100, 0.2, r=0.05, callput='put')\n",
    "    1.5342604771222823\n",
    "    \"\"\"\n",
    "    F = S*np.exp((r-q)*T)\n",
    "    v = np.sqrt(vol**2*T)\n",
    "    d1 = np.log(F/K)/v + 0.5*v\n",
    "    d2 = d1 - v\n",
    "    try:\n",
    "        opttype = {'call':1, 'put':-1}[callput.lower()]\n",
    "    except:\n",
    "        raise ValueError('The value of callput must be either \"call\" or \"put\".')\n",
    "    price = opttype*(F*norm.cdf(opttype*d1)-K*norm.cdf(opttype*d2))*np.exp(-r*T)\n",
    "    return price\n",
    "\n",
    "\n",
    "def pwlinear_basis(xknots):\n",
    "    \"\"\"Basis that represent a piecewise linear function with given knots\"\"\"\n",
    "    fs = [lambda x: np.ones_like(x, dtype=np.float), lambda x: x-xknots[0]]\n",
    "    fs.extend([lambda x, a=xknots[i]: np.maximum(x-a, 0) for i in range(len(xknots))])\n",
    "    return fs\n",
    "\n",
    "\n",
    "def pwlinear_fit(xdata, ydata, xknots):\n",
    "    \"\"\"Fit a piecewise linear function with xknots to xdata and ydata\"\"\"\n",
    "    fs = pwlinear_basis(xknots)\n",
    "    A = np.vstack([f(xdata) for f in fs]).T\n",
    "    ps = np.linalg.lstsq(A, ydata, rcond=None)[0]\n",
    "    return ps, fs"
   ]
  },
  {
   "cell_type": "markdown",
   "metadata": {},
   "source": [
    "<b>Note.</b> To be more specific about the payouts of the product, we make the following assumptions:\n",
    "\n",
    "- We assume that all transactions occur at the end of the month, i.e. the insurance subsriber is expected to pay a fee of $\\alpha/12$ at the end of each month; if the subscriber dies in the middle of the month, the death payment will be made at the end of that month. \n",
    "\n",
    "- If the death occurs at the maturity, we assume that the death comes first and the death payment $u^D$ will be made."
   ]
  },
  {
   "cell_type": "markdown",
   "metadata": {},
   "source": [
    "## Assignment III\n",
    "\n",
    "<b style=\"color:darkorange\">Question 1</b> (Deterministic Mortality Rate Model)\n",
    "\n",
    "We assume that the underlying's risk neutral price dynamics is the Black-Scholes model with zero interest rate/repo/dividend yield\n",
    "\n",
    "$$dX_t = \\sigma X_t d W_t,\\quad X_0=100,\\quad\\sigma=0.3$$\n",
    "\n",
    "We shall price the reinsurance deal using two Monte Carlo methods explained below.\n",
    "\n",
    "<b>(a).</b> (Direct simulation of death times) Implement a Monte Carlo simulation by directly simulating death time $\\tau^D$ for each path to estimate the quantity\n",
    "\n",
    "$$u(t, x) = \\mathbb{E}^\\mathbb{Q}_{t, x} \\left[u^\\textrm{mat}(X_T) \\mathbb{1}_{\\tau^D \\geq T} - \\int_t^T\\alpha \\mathbb{1}_{\\tau^D> s}ds\n",
    "+ u^D(\\tau^D, X_{\\tau^D}) \\mathbb{1}_{\\tau^D < T} \\right],$$\n",
    "\n",
    "when $T=10$, $K_{\\text{mat}}=90$, $K_D=100$, $\\alpha=3$, and $\\tau^D$ has an exponential distribution of constant intensity $\\lambda^D=0.025$. Use monthly time steps.\n"
   ]
  },
  {
   "cell_type": "markdown",
   "metadata": {},
   "source": [
    "<b>(b).</b> (Averaging over death events) Using the Feynman-Kac formula, derive a stochastic representation of the linear PDE \n",
    "\n",
    "$$\\left\\{\\begin{array}{l}\\partial_t u + \\frac{1}{2}\\sigma^2 x^2 \\partial_x^2 u - \\alpha + \\lambda^D \\cdot (u^D - u) = 0\\\\\n",
    "        u(T, x) \\equiv u^\\textrm{mat}(x)\\end{array}\\right.$$\n",
    "        \n",
    "that does not involve simulating death times $\\tau^D$. Explain how one can get this stochastic representation from the one given in (a). Implement the corresponding Monte Carlo simulation to estimate $u(0,X_0)$.\n"
   ]
  },
  {
   "cell_type": "markdown",
   "metadata": {},
   "source": [
    "__Answers__\n",
    "\n",
    "<b>(a).</b> (Direct simulation of death times)"
   ]
  },
  {
   "cell_type": "code",
   "execution_count": 3,
   "metadata": {},
   "outputs": [],
   "source": [
    "# note that lambda is a reserved keyword in python, so we use lambd instead\n",
    "def exponential_samples(n, lambd):\n",
    "    \"\"\"Generate n samples from exponential distribution with rate lambd\"\"\"\n",
    "    \"\"\"Inverse Transform: X~exp(lambda), then cdf of X -- F(X) has uniform distr (use F^-1(U) to sample X)\"\"\"\n",
    "    return -np.log(np.random.rand(n))/lambd"
   ]
  },
  {
   "cell_type": "code",
   "execution_count": 4,
   "metadata": {},
   "outputs": [],
   "source": [
    "X0, vol, r, q= 100, 0.3, 0, 0\n",
    "K_mat, K_D = 90, 100\n",
    "alpha, lambd = 3, 0.025\n",
    "ts = np.linspace(0, 10, 121) #10 year, monthly payment, 0~10 with 121 numbers\n",
    "n_paths = 100000\n",
    "paths = blackscholes_mc(X0, vol, r, q, ts, n_paths)\n",
    "t_death = exponential_samples(n_paths, lambd)  #death distribution"
   ]
  },
  {
   "cell_type": "code",
   "execution_count": 5,
   "metadata": {
    "scrolled": true
   },
   "outputs": [
    {
     "name": "stdout",
     "output_type": "stream",
     "text": [
      "Direct simulation price:  2.087534140761238\n"
     ]
    }
   ],
   "source": [
    "tot_payoff = 0\n",
    "for i in range(1,len(ts)):\n",
    "    idx = t_death<=(ts[i])  #appear death within month\n",
    "    #no discount, r=0\n",
    "    death_payoff = np.maximum(K_D-paths[i,idx],0)   # death payment\n",
    "    tot_payoff += np.sum(death_payoff-alpha*t_death[idx])  #deduct fee (alpha*t_death here for death)\n",
    "    paths = paths[:,~idx]\n",
    "    t_death = t_death[~idx]\n",
    "    if i==len(ts)-1:\n",
    "        mat_payoff = np.maximum(K_mat-paths[i,:],0) #maturity payment\n",
    "        tot_payoff += np.sum(mat_payoff-alpha*ts[-1]) #deduct fee (alpha*T here for maturity, can not use t_death)\n",
    "\n",
    "V = tot_payoff/n_paths        \n",
    "print(\"Direct simulation price: \", V)"
   ]
  },
  {
   "cell_type": "markdown",
   "metadata": {},
   "source": [
    "<b>(b).</b> (Averaging over death events)"
   ]
  },
  {
   "cell_type": "markdown",
   "metadata": {},
   "source": [
    "Stochastic representation (b):\n",
    "$$\n",
    "u(t,x) = \\mathbb{E}^\\mathbb{Q}_{t,x}\\left[e^{-\\int_{t}^{T}\\lambda^D ds} u^{mat}(X_T)\\right] + \\mathbb E^\\mathbb{Q}_{t,x}\\left[\\int_{t}^{T}e^{-\\int_{t}^{s}\\lambda^D dv} (-\\alpha + u^{D}(s,X_s)\\lambda^D)ds\\right]\n",
    "$$\n",
    "\n",
    "Explanation: we can derive (b) from (a) by taking in  $\\mathbb{1}_{\\tau^D \\geq T}=e^{-\\int_{t}^{T}\\lambda^D ds}, \\mathbb{P}_{\\tau^D \\in (s,s+ds) |\\tau\\geq t} = \\lambda^D e^{-\\int_{t}^{s}\\lambda^D dv} $\n",
    "\n",
    "\\begin{align}\n",
    "(a) &= \\mathbb{E}^\\mathbb{Q}_{t, x} \\left[u^\\textrm{mat}(X_T) \\mathbb{1}_{\\tau^D \\geq T} - \\int_t^T\\alpha \\mathbb{1}_{\\tau^D> s}ds\n",
    "+ u^D(\\tau^D, X_{\\tau^D}) \\mathbb{1}_{\\tau^D < T} \\right] \\\\\n",
    " &= \\mathbb{E}^\\mathbb{Q}_{t,x}\\left[e^{-\\int_{t}^{T}\\lambda^D ds} u^{mat}(X_T)\\right] + \\mathbb{E}^\\mathbb{Q}_{t, x}\\left[\\int_{t}^{T}-\\alpha e^{-\\int_{t}^{s}\\lambda^D dv}+\\int_{t}^{T}u^{D}(s,X_s)(\\lambda^D e^{-\\int_{t}^{s}\\lambda^D dv}) ds\\right] = (b)\n",
    "\\end{align}\n",
    "\n",
    "Represented by numerical schemes:\n",
    "\n",
    "- At $T$,  $C_{T} = u^{mat}(t_n,X_{T})$\n",
    "- At $0\\leq t_k<T$, $C_{t_k} = \\exp\\left(-\\lambda^D \\Delta_{t_{k+1}}\\right) C_{t_{k+1}} - \\alpha*\\Delta_{t_{k+1}} + \\left(1-\\exp(-\\lambda^D \\Delta_{t_{k+1}})\\right) u^D(t_{k+1},X_{t_{k+1}})$\n",
    "- Average all $u_{t_0}$ across N paths to estimate the fair value of the contract at time zero"
   ]
  },
  {
   "cell_type": "code",
   "execution_count": 6,
   "metadata": {},
   "outputs": [],
   "source": [
    "X0, vol, r, q= 100, 0.3, 0, 0\n",
    "K_mat, K_D = 90, 100\n",
    "alpha, lambd = 3, 0.025\n",
    "ts = np.linspace(0, 10, 121) #10 year, monthly payment, 0~10 with 121 numbers\n",
    "n_paths = 100000\n",
    "paths = blackscholes_mc(X0, vol, r, q, ts, n_paths)"
   ]
  },
  {
   "cell_type": "code",
   "execution_count": 7,
   "metadata": {},
   "outputs": [
    {
     "name": "stdout",
     "output_type": "stream",
     "text": [
      "Events average price:  2.1473512824321923\n"
     ]
    }
   ],
   "source": [
    "V = np.maximum(K_mat-paths[-1,:],0)\n",
    "#backward and average N paths\n",
    "for i in range(len(ts)-2,0,-1):\n",
    "    dt = ts[i+1]-ts[i]\n",
    "    mat_payoff = np.exp(-lambd*dt)*V  #maturity payoff under measure\n",
    "    payment  = -alpha*dt\n",
    "    death_payoff = (1-np.exp(-lambd*dt))*np.maximum(K_D-paths[i+1,:],0)  #death payoff under measure\n",
    "    V = mat_payoff + payment + death_payoff\n",
    "\n",
    "V = np.mean(V)\n",
    "print(\"Events average price: \", V)"
   ]
  },
  {
   "cell_type": "markdown",
   "metadata": {},
   "source": [
    "<b style=\"color:darkorange\">Question 2</b> (Uncertain Mortality Rate Model - BSDE)\n",
    "\n",
    "Assume that $\\lambda^D_t \\in \\left[\\underline{\\lambda}^D, \\overline{\\lambda}^D \\right]$, where $\\underline{\\lambda}^D=0.005$ and $\\overline{\\lambda}^D=0.04$.\n",
    "\n",
    "<b>(a).</b> Implement the implicit Euler scheme for BSDE. Use piecewise-linear fit with 10 knots to estimate the conditional expectation $\\mathbb{E}^{\\mathbb{Q}}_{i-1}\\left[Y_{t_i}\\right]$. Use the numpy function percentile to define the minimum and maximum knots. Use the percentiles 1 and 99 percent. Use 100,000 paths.\n",
    "\n",
    "<b>(b).</b> Run an independent new simuation. Use the estimates of $\\mathbb{E}^{\\mathbb{Q}}_{i-1}\\left[Y_{t_i}\\right]$ obtained in (a) to get a lower bound estimate.\n",
    "\n",
    "<b>(c).</b> How does the price compare with the price in the model with deterministic mortality rate $\\underline{\\lambda}^D$? with deterministic mortality rate $\\overline{\\lambda}^D$? Check numerically."
   ]
  },
  {
   "cell_type": "markdown",
   "metadata": {},
   "source": [
    "__Answers__\n",
    "\n",
    "<b>(a).</b> (BSDE with Implicit Euler Scheme)\n",
    "\n",
    "\\begin{split}\n",
    "Y_{t_{i - 1}} =& \\frac{1}{1 + \\overline{\\lambda}^D \\Delta t_i} \\left( \\mathbb{E}^\\mathbb{Q}_{i - 1} [ Y_{t_i} ] - \\alpha\\Delta t_i +\n",
    "u^D(t_{i - 1}, X_{t_{i - 1}}) \\overline{\\lambda}^D \\Delta t_i \\right) \\mathbb{1}_{u^D\\left(t_{i - 1}, X_{t_{i - 1}}\\right) \\geq \\mathbb{E}_{i-1}[Y_{t_i}]-\\alpha\\Delta t_i}\\\\\n",
    "& + \\frac{1}{1 + \\underline{\\lambda}^D \\Delta t_i} \\left( \\mathbb{E}^\\mathbb{Q}_{i - 1} [ Y_{t_i} ] -\\alpha\\Delta t_i +\n",
    "u^D(t_{i - 1}, X_{t_{i - 1}}) \\underline{\\lambda}^D \\Delta t_i \\right) \\mathbb{1}_{u^D(t_{i - 1}, X_{t_{i - 1}}) < \\mathbb{E}_{i-1}[Y_{t_i}]-\\alpha\\Delta t_i}.\n",
    "\\end{split}"
   ]
  },
  {
   "cell_type": "code",
   "execution_count": 8,
   "metadata": {},
   "outputs": [],
   "source": [
    "lambda_max, lambda_min = 0.04, 0.005\n",
    "X0, vol, r, q= 100, 0.3, 0, 0\n",
    "K_mat, K_D = 90, 100\n",
    "ts = np.linspace(0, 10, 121) #10 year, monthly payment, 0~10 with 121 numbers\n",
    "n_paths = 100000"
   ]
  },
  {
   "cell_type": "code",
   "execution_count": 9,
   "metadata": {},
   "outputs": [
    {
     "name": "stdout",
     "output_type": "stream",
     "text": [
      "Implicit BSDE model price:  3.5435420847575965\n"
     ]
    }
   ],
   "source": [
    "## First simulation\n",
    "paths = blackscholes_mc(X0, vol, r, q, ts, n_paths)\n",
    "V = np.maximum(K_mat-paths[-1,:],0)\n",
    "Ps, Fs = [_ for i in range(len(ts))], [_ for i in range(len(ts))]\n",
    "for i in range(len(ts)-2,0,-1):\n",
    "    dt = ts[i+1]-ts[i]\n",
    "    ##use piecewise-linear fit to get cond expect\n",
    "    xknots = np.linspace(np.percentile(paths[i,:], 1), np.percentile(paths[i,:], 99), 10)\n",
    "    ps, fs = pwlinear_fit(paths[i,:], V, xknots)\n",
    "    Ps[i], Fs[i] = ps,fs\n",
    "    cond_v=sum([f(paths[i,:])*p for (f, p) in zip(fs, ps)])\n",
    "    \n",
    "    death_payoff = np.maximum(K_D-paths[i,:],0)    #death payoff\n",
    "    idx = death_payoff >= (cond_v-alpha*dt)   #where to use max price\n",
    "    V_max = 1/(1 + lambda_max*dt)*(cond_v - alpha*dt + death_payoff*lambda_max*dt)\n",
    "    V_min = 1/(1 + lambda_min*dt)*(cond_v - alpha*dt + death_payoff*lambda_min*dt)\n",
    "    V[idx] = V_max[idx]    #use max\n",
    "    V[~idx] = V_min[~idx]  #use min\n",
    "    \n",
    "V = np.mean(V)\n",
    "print(\"Implicit BSDE model price: \", V)"
   ]
  },
  {
   "cell_type": "markdown",
   "metadata": {},
   "source": [
    "__(b).__ (Independent new simuation)\n",
    "\n",
    "Wrong way:\n",
    "\n",
    "The below is not right, we should use the parameters estimated in (a) to estimate lambda but not used for price value directly. Otherwise we are still maintaining the regression error. Then we use this lambda to produce the guidance, i.e. to default or not, to help advice the price at each step following the formula in Q1(b). Now we are no longer using implicit schema but using the direct expectation formula in Q1 (b). Notcie like longstaff-shwartz, we are not using the regression but the guidance to estimate a lower-bound price.\n",
    "\n",
    "Notice the wrong way below, if we use the parameters before to directly estimate the value at each step, we do not need to do the backward loop. We can only use the a single step paths\\[0\\] to get the value V without loop, since each step we do not use V_{i+1} to update V_{i}, but only use paths\\[i\\] and paramters."
   ]
  },
  {
   "cell_type": "code",
   "execution_count": null,
   "metadata": {},
   "outputs": [],
   "source": [
    "## Second independent simulation\n",
    "new_paths = blackscholes_mc(X0, vol, r, q, ts, n_paths)\n",
    "V = np.maximum(K_mat-new_paths[-1,:],0)\n",
    "\n",
    "#below is wrong and not necessary\n",
    "for i in range(len(ts)-2,0,-1):\n",
    "    dt = ts[i+1]-ts[i]\n",
    "    ##use piecewise-linear from (a) to get cond expect\n",
    "    ps,fs = Ps[i], Fs[i]\n",
    "    cond_v=sum([f(new_paths[i,:])*p for (f, p) in zip(fs, ps)])\n",
    "    \n",
    "    death_payoff = np.maximum(K_D-new_paths[i,:],0)    #death payoff\n",
    "    idx = death_payoff >= (cond_v-alpha*dt) #where to use min price\n",
    "    V_max = 1/(1 + lambda_max*dt)*(cond_v - alpha*dt + death_payoff*lambda_max*dt)\n",
    "    V_min = 1/(1 + lambda_min*dt)*(cond_v - alpha*dt + death_payoff*lambda_min*dt)\n",
    "    V[idx] = V_max[idx]    #use max\n",
    "    V[~idx] = V_min[~idx]  #use min\n",
    "    \n",
    "V = np.mean(V)\n",
    "print(\"(Wrong) Independent implicit BSDE model price: \", V)"
   ]
  },
  {
   "cell_type": "markdown",
   "metadata": {},
   "source": [
    "Right way:\n",
    "Use parameters in part (a) to get the estimation of lambda, and use lambda to guide the estimation following the schema in Q1 (b)\n",
    "\n",
    "- At $T$,  $C_{T} = u^{mat}(t_n,X_{T})$\n",
    "- At $0\\leq t_k<T$, $C_{t_k} = \\exp\\left(-\\lambda^D \\Delta_{t_{k+1}}\\right) C_{t_{k+1}} - \\alpha*\\Delta_{t_{k+1}} + \\left(1-\\exp(-\\lambda^D \\Delta_{t_{k+1}})\\right) u^D(t_{k+1},X_{t_{k+1}})$\n"
   ]
  },
  {
   "cell_type": "code",
   "execution_count": null,
   "metadata": {},
   "outputs": [],
   "source": [
    "## Second independent simulation\n",
    "new_paths = blackscholes_mc(X0, vol, r, q, ts, n_paths)\n",
    "V = np.maximum(K_mat-new_paths[-1,:],0)\n",
    "lambd = np.zeros_like(new_paths)\n",
    "\n",
    "# use regression parameters to decide the lambda\n",
    "for i in range(len(ts)-2,0,-1):\n",
    "    dt = ts[i+1]-ts[i]\n",
    "    ##use piecewise-linear from (a) to get cond expect\n",
    "    ps,fs = Ps[i], Fs[i]\n",
    "    cond_v=sum([f(new_paths[i,:])*p for (f, p) in zip(fs, ps)])\n",
    "    death_payoff = np.maximum(K_D-new_paths[i,:],0)    #death payoff\n",
    "    #compare to decide where to use lambda_max or lambda_min\n",
    "    lambd[i] = np.where(death_payoff >= (cond_v-alpha*dt), lambda_max, lambda_min)\n",
    "\n",
    "V = np.maximum(K_mat-new_paths[-1],0)\n",
    "#use lambda in the q1(b) formula to price the value\n",
    "for i in range(len(ts)-2,0,-1):\n",
    "    dt = ts[i+1]-ts[i]\n",
    "    death_payoff = np.maximum(K_D-new_paths[i,:],0)    #death payoff\n",
    "    V = np.exp(-lambd[i]*dt)*V - alpha*dt + (1-np.exp(-lambd[i]*dt))*death_payoff\n",
    "\n",
    "V = np.mean(V)\n",
    "print(\"Independent implicit BSDE model price: \", V)"
   ]
  },
  {
   "cell_type": "markdown",
   "metadata": {},
   "source": [
    "__(c).__ (Compare price with fixed rate numerically)\n",
    "\n",
    "- Using fixed $\\overline\\lambda_D$\n",
    "\n",
    "\n",
    "\\begin{split}\n",
    "Y_{t_{i - 1}} =& \\frac{1}{1 + \\overline{\\lambda}^D \\Delta t_i} \\left( \\mathbb{E}^\\mathbb{Q}_{i - 1} [ Y_{t_i} ] - \\alpha\\Delta t_i +\n",
    "u^D(t_{i - 1}, X_{t_{i - 1}}) \\overline{\\lambda}^D \\Delta t_i \\right)\n",
    "\\end{split}\n",
    "\n",
    "\n",
    "\n",
    "__Q2(c)__: answer is off for both \\lambdas. There is no need to do any regression for deterministic \\lambda case since it will introduce unnecessary regression errors, should use methods in Q1. (-0.5)"
   ]
  },
  {
   "cell_type": "code",
   "execution_count": 11,
   "metadata": {},
   "outputs": [
    {
     "name": "stdout",
     "output_type": "stream",
     "text": [
      "Fixed upper mortality rate model price under BSDE:  3.486645233193959\n"
     ]
    }
   ],
   "source": [
    "## 1. First simulation\n",
    "paths = blackscholes_mc(X0, vol, r, q, ts, n_paths)\n",
    "V0 = np.maximum(K_mat-paths[-1,:],0)\n",
    "Ps, Fs = [_ for i in range(len(ts))], [_ for i in range(len(ts))]\n",
    "for i in range(len(ts)-2,0,-1):\n",
    "    dt = ts[i+1]-ts[i]\n",
    "    ##use piecewise-linear fit to get cond expect\n",
    "    xknots = np.linspace(np.percentile(paths[i,:], 1), np.percentile(paths[i,:], 99), 10)\n",
    "    ps, fs = pwlinear_fit(paths[i,:], V0, xknots)\n",
    "    Ps[i], Fs[i] = ps,fs\n",
    "    cond_v=sum([f(paths[i,:])*p for (f, p) in zip(fs, ps)])\n",
    "    \n",
    "    death_payoff = np.maximum(K_D-paths[i,:],0)    #death payoff\n",
    "    V0 = 1/(1 + lambda_max*dt)*(cond_v - alpha*dt + death_payoff*lambda_max*dt)\n",
    "    \n",
    "## 2. Second independent simulation\n",
    "new_paths = blackscholes_mc(X0, vol, r, q, ts, n_paths)\n",
    "V1 = np.maximum(K_mat-new_paths[-1,:],0)\n",
    "for i in range(len(ts)-2,0,-1):\n",
    "    dt = ts[i+1]-ts[i]\n",
    "    ##use piecewise-linear from (a) to get cond expect\n",
    "    ps,fs = Ps[i], Fs[i]\n",
    "    cond_v=sum([f(new_paths[i,:])*p for (f, p) in zip(fs, ps)])\n",
    "    \n",
    "    death_payoff = np.maximum(K_D-new_paths[i,:],0)    #death payoff\n",
    "    V1 = 1/(1 + lambda_max*dt)*(cond_v - alpha*dt + death_payoff*lambda_max*dt)\n",
    "    \n",
    "V1 = np.mean(V1)\n",
    "print(\"Fixed upper mortality rate model price under BSDE: \", V1)\n"
   ]
  },
  {
   "cell_type": "markdown",
   "metadata": {},
   "source": [
    "- Using fixed $\\underline\\lambda_D$\n",
    "\n",
    "\\begin{split}\n",
    "Y_{t_{i - 1}} =& \\frac{1}{1 + \\underline{\\lambda}^D \\Delta t_i} \\left( \\mathbb{E}^\\mathbb{Q}_{i - 1} [ Y_{t_i} ] - \\alpha\\Delta t_i +\n",
    "u^D(t_{i - 1}, X_{t_{i - 1}}) \\underline{\\lambda}^D \\Delta t_i \\right)\n",
    "\\end{split}"
   ]
  },
  {
   "cell_type": "code",
   "execution_count": 12,
   "metadata": {},
   "outputs": [
    {
     "name": "stdout",
     "output_type": "stream",
     "text": [
      "Fixed lower mortality rate model price under BSDE:  0.41589639297603387\n"
     ]
    }
   ],
   "source": [
    "## 1. First simulation\n",
    "paths = blackscholes_mc(X0, vol, r, q, ts, n_paths)\n",
    "V0 = np.maximum(K_mat-paths[-1,:],0)\n",
    "Ps, Fs = [_ for i in range(len(ts))], [_ for i in range(len(ts))]\n",
    "for i in range(len(ts)-2,0,-1):\n",
    "    dt = ts[i+1]-ts[i]\n",
    "    ##use piecewise-linear fit to get cond expect\n",
    "    xknots = np.linspace(np.percentile(paths[i,:], 1), np.percentile(paths[i,:], 99), 10)\n",
    "    ps, fs = pwlinear_fit(paths[i,:], V0, xknots)\n",
    "    Ps[i], Fs[i] = ps,fs\n",
    "    cond_v=sum([f(paths[i,:])*p for (f, p) in zip(fs, ps)])\n",
    "    \n",
    "    death_payoff = np.maximum(K_D-paths[i,:],0)    #death payoff\n",
    "    V0 = 1/(1 + lambda_min*dt)*(cond_v - alpha*dt + death_payoff*lambda_min*dt)\n",
    "    \n",
    "## 2. Second independent simulation\n",
    "new_paths = blackscholes_mc(X0, vol, r, q, ts, n_paths)\n",
    "V1 = np.maximum(K_mat-new_paths[-1,:],0)\n",
    "for i in range(len(ts)-2,0,-1):\n",
    "    dt = ts[i+1]-ts[i]\n",
    "    ##use piecewise-linear from (a) to get cond expect\n",
    "    ps,fs = Ps[i], Fs[i]\n",
    "    cond_v=sum([f(new_paths[i,:])*p for (f, p) in zip(fs, ps)])\n",
    "    \n",
    "    death_payoff = np.maximum(K_D-new_paths[i,:],0)    #death payoff\n",
    "    V1 = 1/(1 + lambda_min*dt)*(cond_v - alpha*dt + death_payoff*lambda_min*dt)\n",
    "    \n",
    "V1 = np.mean(V1)\n",
    "print(\"Fixed lower mortality rate model price under BSDE: \", V1)"
   ]
  },
  {
   "cell_type": "markdown",
   "metadata": {},
   "source": [
    "The price in uncertain mortality model is higher than both the price under the deterministic mortality rate $\\underline{\\lambda}^D$ and $\\overline{\\lambda}^D$. This is because the uncertain mortality rate model always take the \"sup\" value considering every situations while the deterministic rate model use the same lambda, which might get sub-optimal for certain situations.\n"
   ]
  },
  {
   "cell_type": "markdown",
   "metadata": {},
   "source": [
    "  "
   ]
  },
  {
   "cell_type": "markdown",
   "metadata": {},
   "source": [
    "<b style=\"color:darkorange\">Question 3</b> (Uncertain Mortality Rate Model - Longstaff and Schwartz) In addition to the BSDE simulation, the reinsurance deals can be priced by adapting the Longstaff-Schwartz algorithm. An implementation of the Longstaff-Schwartz algorithm is provided below for your convenience.\n",
    "\n",
    "The same lower and upper bounds of $\\lambda_t^D$ are used as Question 2.\n",
    "\n",
    "<b>(a).</b> In the example code, we use European put price (the strike is taken to be the average of $K_{\\text{mat}}$ and $K_D$) and constant as basis functions to estimate the sum of future payoffs. Modify the code by using the piecewise-linear fit to estimate the sum of future payoffs.\n",
    "\n",
    "<b>(b).</b> Compare the BSDE scheme with the Longstaff-Schwartz-like scheme in terms of variance. For each method run the two-step procedure (regression and indedenpent pricing) 20 times to estimate variance. Use 5000 paths for regression and 50000 for indepedent pricing.\n",
    "\n",
    "<b>(c).</b> What is approximately the value of the fee $\\alpha$ that makes the deal costless at inception?"
   ]
  },
  {
   "cell_type": "markdown",
   "metadata": {},
   "source": [
    "__Answers__\n",
    "\n",
    "<b>(a).</b> (Longstaff-Schwartz price)"
   ]
  },
  {
   "cell_type": "code",
   "execution_count": 13,
   "metadata": {},
   "outputs": [
    {
     "name": "stdout",
     "output_type": "stream",
     "text": [
      "Uncertain mortality rate model price under Longstaff-Schwartz:  3.515160655320706\n"
     ]
    }
   ],
   "source": [
    "# Longstaff-Schwartz algorithm for Uncertain Mortality Rate Model\n",
    "S = 100\n",
    "vol = 0.3\n",
    "T = 10\n",
    "ts = np.linspace(0, T, int(np.round(T*12))+1)\n",
    "alpha = 3\n",
    "lambda_min = 0.005\n",
    "lambda_max = 0.04\n",
    "\n",
    "K_mat = 90.0\n",
    "K_D = 100.0\n",
    "\n",
    "def u_mat(x):\n",
    "    return np.maximum(K_mat - x, 0)\n",
    "\n",
    "def u_D(x):\n",
    "    return np.maximum(K_D - x, 0)\n",
    "\n",
    "\n",
    "# first Monte Carlo run to estimate the value function by regressions\n",
    "npaths = 5000\n",
    "paths = blackscholes_mc(S=S, vol=vol, r=0, q=0, ts=ts, npaths=npaths)\n",
    "Ps, Fs = [_ for i in range(len(ts))], [_ for i in range(len(ts))]\n",
    "V = u_mat(paths[-1])\n",
    "lambd = np.where(u_D(paths[-1]) >= V, lambda_max, lambda_min)\n",
    "\n",
    "for i in range(len(ts)-2, 0, -1):\n",
    "    dt = ts[i+1]-ts[i]\n",
    "    p = 1-np.exp(-lambd*dt)\n",
    "    V = p*u_D(paths[i+1]) + (1-p)*V - alpha*dt\n",
    "    xknots = np.linspace(np.percentile(paths[i,:], 1), np.percentile(paths[i,:], 99), 10)\n",
    "    ps, fs = pwlinear_fit(paths[i,:], V, xknots)\n",
    "    Ps[i], Fs[i] = ps, fs\n",
    "    cond_v = sum([f(paths[i,:])*p for (f, p) in zip(fs, ps)])\n",
    "    lambd = np.where(u_D(paths[i]) >= cond_v, lambda_max, lambda_min)\n",
    "\n",
    "# independent simulation to obtain a lower bound\n",
    "npaths = 100000\n",
    "paths = blackscholes_mc(S=S, vol=vol, r=0, q=0, ts=ts, npaths=npaths)\n",
    "V = u_mat(paths[-1])\n",
    "lambd = np.where(u_D(paths[-1]) >= V, lambda_max, lambda_min)\n",
    "for i in range(len(ts)-2, 0, -1):\n",
    "    dt = ts[i+1]-ts[i]\n",
    "    p = 1-np.exp(-lambd*dt)\n",
    "    V = p*u_D(paths[i+1]) + (1-p)*V - alpha*dt\n",
    "    ps, fs = Ps[i], Fs[i]\n",
    "    cond_v = sum([f(paths[i,:])*p for (f, p) in zip(fs, ps)])\n",
    "    lambd = np.where(u_D(paths[i]) >= cond_v, lambda_max, lambda_min)\n",
    "    \n",
    "print(\"Uncertain mortality rate model price under Longstaff-Schwartz: \", np.mean(V))"
   ]
  },
  {
   "cell_type": "markdown",
   "metadata": {},
   "source": [
    "<b>(b).</b> (Comparing variance of BSDE and Longstaff-Schwartz)\n",
    "- BSDE variance"
   ]
  },
  {
   "cell_type": "code",
   "execution_count": 14,
   "metadata": {},
   "outputs": [
    {
     "name": "stdout",
     "output_type": "stream",
     "text": [
      "BSDE price Variance:  0.17581055952482627\n"
     ]
    }
   ],
   "source": [
    "npaths1, npaths2 = 5000, 50000\n",
    "V_list = []\n",
    "alpha = 3\n",
    "\n",
    "for n in range(0,20):\n",
    "    ## First simulation\n",
    "    paths = blackscholes_mc(X0, vol, r, q, ts, npaths1)\n",
    "    V = np.maximum(K_mat-paths[-1,:],0)\n",
    "    Ps, Fs = [_ for i in range(len(ts))], [_ for i in range(len(ts))]\n",
    "    for i in range(len(ts)-2,0,-1):\n",
    "        dt = ts[i+1]-ts[i]\n",
    "        ##use piecewise-linear fit to get cond expect\n",
    "        xknots = np.linspace(np.percentile(paths[i,:], 1), np.percentile(paths[i,:], 99), 10)\n",
    "        ps, fs = pwlinear_fit(paths[i,:], V, xknots)\n",
    "        Ps[i], Fs[i] = ps,fs\n",
    "        cond_v=sum([f(paths[i,:])*p for (f, p) in zip(fs, ps)])\n",
    "    \n",
    "        death_payoff = np.maximum(K_D-paths[i,:],0)    #death payoff\n",
    "        idx = death_payoff >= (cond_v-alpha*dt)   #where to use max price\n",
    "        V_max = 1/(1 + lambda_max*dt)*(cond_v - alpha*dt + death_payoff*lambda_max*dt)\n",
    "        V_min = 1/(1 + lambda_min*dt)*(cond_v - alpha*dt + death_payoff*lambda_min*dt)\n",
    "        V[idx] = V_max[idx]    #use max\n",
    "        V[~idx] = V_min[~idx]  #use min\n",
    "\n",
    "    ## Second independent simulation\n",
    "    new_paths = blackscholes_mc(X0, vol, r, q, ts, npaths2)\n",
    "    V = np.maximum(K_mat-new_paths[-1,:],0)\n",
    "\n",
    "    for i in range(len(ts)-2,0,-1):\n",
    "        dt = ts[i+1]-ts[i]\n",
    "        ##use piecewise-linear from (a) to get cond expect\n",
    "        ps,fs = Ps[i], Fs[i]\n",
    "        cond_v=sum([f(new_paths[i,:])*p for (f, p) in zip(fs, ps)])\n",
    "    \n",
    "        death_payoff = np.maximum(K_D-new_paths[i,:],0)    #death payoff\n",
    "        idx = death_payoff >= (cond_v-alpha*dt) #where to use min price\n",
    "        V_max = 1/(1 + lambda_max*dt)*(cond_v - alpha*dt + death_payoff*lambda_max*dt)\n",
    "        V_min = 1/(1 + lambda_min*dt)*(cond_v - alpha*dt + death_payoff*lambda_min*dt)\n",
    "        V[idx] = V_max[idx]    #use max\n",
    "        V[~idx] = V_min[~idx]  #use min\n",
    "    \n",
    "    V = np.mean(V)\n",
    "    V_list.append(V)\n",
    "\n",
    "print(\"BSDE price Variance: \",np.var(np.array(V_list)))"
   ]
  },
  {
   "cell_type": "markdown",
   "metadata": {},
   "source": [
    "- Longstaff-Schwartz variance"
   ]
  },
  {
   "cell_type": "code",
   "execution_count": 15,
   "metadata": {},
   "outputs": [
    {
     "name": "stdout",
     "output_type": "stream",
     "text": [
      "Longstaff-Schwartz price variance:  0.011934856094844664\n"
     ]
    }
   ],
   "source": [
    "npaths1, npaths2 = 5000, 50000\n",
    "V_list = []\n",
    "alpha = 3\n",
    "\n",
    "for n in range(0,20):\n",
    "    # first Monte Carlo run to estimate the value function by regressions    \n",
    "    paths = blackscholes_mc(S=S, vol=vol, r=0, q=0, ts=ts, npaths=npaths1)\n",
    "    Ps, Fs = [_ for i in range(len(ts))], [_ for i in range(len(ts))]\n",
    "    V = u_mat(paths[-1])\n",
    "    lambd = np.where(u_D(paths[-1]) >= V, lambda_max, lambda_min)\n",
    "\n",
    "    for i in range(len(ts)-2, 0, -1):\n",
    "        dt = ts[i+1]-ts[i]\n",
    "        p = 1-np.exp(-lambd*dt)\n",
    "        V = p*u_D(paths[i+1]) + (1-p)*V - alpha*dt\n",
    "        xknots = np.linspace(np.percentile(paths[i,:], 1), np.percentile(paths[i,:], 99), 10)\n",
    "        ps, fs = pwlinear_fit(paths[i,:], V, xknots)\n",
    "        Ps[i], Fs[i] = ps, fs\n",
    "        cond_v = sum([f(paths[i,:])*p for (f, p) in zip(fs, ps)])\n",
    "        lambd = np.where(u_D(paths[i]) >= cond_v, lambda_max, lambda_min)\n",
    "\n",
    "    # independent simulation to obtain a lower bound\n",
    "    \n",
    "    paths = blackscholes_mc(S=S, vol=vol, r=0, q=0, ts=ts, npaths=npaths2)\n",
    "    V = u_mat(paths[-1])\n",
    "    lambd = np.where(u_D(paths[-1]) >= V, lambda_max, lambda_min)\n",
    "    for i in range(len(ts)-2, 0, -1):\n",
    "        dt = ts[i+1]-ts[i]\n",
    "        p = 1-np.exp(-lambd*dt)\n",
    "        V = p*u_D(paths[i+1]) + (1-p)*V - alpha*dt\n",
    "        ps, fs = Ps[i], Fs[i]\n",
    "        cond_v = sum([f(paths[i,:])*p for (f, p) in zip(fs, ps)])\n",
    "        lambd = np.where(u_D(paths[i]) >= cond_v, lambda_max, lambda_min)\n",
    "    \n",
    "    V = np.mean(V)\n",
    "    V_list.append(V)\n",
    "\n",
    "print(\"Longstaff-Schwartz price variance: \",np.var(np.array(V_list)))"
   ]
  },
  {
   "cell_type": "markdown",
   "metadata": {},
   "source": [
    "We can see that the variance of price under the longstaff-schwartz uncertain mortality model is much lower than that of the BSDE model."
   ]
  },
  {
   "cell_type": "markdown",
   "metadata": {},
   "source": [
    "<b>(c)</b> Find $\\alpha$ for costless deal"
   ]
  },
  {
   "cell_type": "markdown",
   "metadata": {},
   "source": [
    "Q3(c): should have a systemic way of computing \\alpha*, e.g. use root finding schemes such as bisection method and set a threshold for error. (-0.25)"
   ]
  },
  {
   "cell_type": "code",
   "execution_count": 16,
   "metadata": {},
   "outputs": [
    {
     "name": "stdout",
     "output_type": "stream",
     "text": [
      "alpha: 3.0  price: 3.3801820961843907\n",
      "alpha: 3.05  price: 3.162260814406363\n",
      "alpha: 3.1  price: 2.5850999610576215\n",
      "alpha: 3.15  price: 2.098438800630626\n",
      "alpha: 3.2  price: 1.7688009551016897\n",
      "alpha: 3.25  price: 1.2814693498099017\n",
      "alpha: 3.3  price: 0.8634934436191093\n",
      "alpha: 3.35  price: 0.5375258618204807\n",
      "alpha: 3.4  price: -0.030015881891466797\n",
      "alpha: 3.45  price: -0.33329534068621625\n",
      "alpha: 3.5  price: -0.7522967090622963\n"
     ]
    }
   ],
   "source": [
    "# Longstaff-Schwartz algorithm for Uncertain Mortality Rate Model\n",
    "# Test different alpha\n",
    "alpha_value = np.linspace(3, 3.5, 11)\n",
    "\n",
    "for alpha in alpha_value:\n",
    "    # first Monte Carlo run to estimate the value function by regressions\n",
    "    npaths = 5000\n",
    "    paths = blackscholes_mc(S=S, vol=vol, r=0, q=0, ts=ts, npaths=npaths)\n",
    "    Ps, Fs = [_ for i in range(len(ts))], [_ for i in range(len(ts))]\n",
    "    V = u_mat(paths[-1])\n",
    "    lambd = np.where(u_D(paths[-1]) >= V, lambda_max, lambda_min)\n",
    "\n",
    "    for i in range(len(ts)-2, 0, -1):\n",
    "        dt = ts[i+1]-ts[i]\n",
    "        p = 1-np.exp(-lambd*dt)\n",
    "        V = p*u_D(paths[i+1]) + (1-p)*V - alpha*dt\n",
    "        xknots = np.linspace(np.percentile(paths[i,:], 1), np.percentile(paths[i,:], 99), 10)\n",
    "        ps, fs = pwlinear_fit(paths[i,:], V, xknots)\n",
    "        Ps[i], Fs[i] = ps, fs\n",
    "        cond_v = sum([f(paths[i,:])*p for (f, p) in zip(fs, ps)])\n",
    "        lambd = np.where(u_D(paths[i]) >= cond_v, lambda_max, lambda_min)\n",
    "\n",
    "    # independent simulation to obtain a lower bound\n",
    "    npaths = 100000\n",
    "    paths = blackscholes_mc(S=S, vol=vol, r=0, q=0, ts=ts, npaths=npaths)\n",
    "    V = u_mat(paths[-1])\n",
    "    lambd = np.where(u_D(paths[-1]) >= V, lambda_max, lambda_min)\n",
    "    for i in range(len(ts)-2, 0, -1):\n",
    "        dt = ts[i+1]-ts[i]\n",
    "        p = 1-np.exp(-lambd*dt)\n",
    "        V = p*u_D(paths[i+1]) + (1-p)*V - alpha*dt\n",
    "        ps, fs = Ps[i], Fs[i]\n",
    "        cond_v = sum([f(paths[i,:])*p for (f, p) in zip(fs, ps)])\n",
    "        lambd = np.where(u_D(paths[i]) >= cond_v, lambda_max, lambda_min)\n",
    "    \n",
    "    print(\"alpha:\",alpha, \" price:\", np.mean(V))"
   ]
  },
  {
   "cell_type": "markdown",
   "metadata": {},
   "source": [
    "We can see that when the fee $\\alpha$ is around 3.38, the deal is costless at the beginning.\n",
    "\n",
    " "
   ]
  },
  {
   "cell_type": "markdown",
   "metadata": {
    "collapsed": true
   },
   "source": [
    "<b style=\"color:darkorange\">Question 4.</b> Set $K_D=0$, and all the other parameters remain the same, in particualr $\\alpha=3$. Then the default event is equivalent to lapse (with no mortality payoff). It has been observed that insurance subscribers do not lapse optimally, which explains the use of the uncertain lapse model with minimum and maximum lapse rates $\\underline{\\lambda}$, $\\overline{\\lambda}$. \n",
    "\n",
    "<b>(a).</b> If insurance subscribers were to lapse optimally, i.e., exercise optimally their option to lapse, how would you price the contract?\n",
    "\n",
    "<b>(b).</b> Explain how you can get this price (from optimal exercise) in the uncertain lapse model. Reuse the code provided in Question 3 to show your result (you may have to change some parameters in the code).\n",
    "\n",
    "<b>(c).</b> Implement Longstaff-Schwartz algorithm to price the American option with payoff $u^D=0$ (Always perform a second indepedent run to get a clean lower bound price). Compare the price from uncertain lapse model in part (b) with the American price."
   ]
  },
  {
   "cell_type": "markdown",
   "metadata": {},
   "source": [
    "__Answers__\n",
    "\n",
    "<b>(a).</b> (Optimal lapse contract price)\n",
    "We use the same uncertain motality model with longstaff-schwartz algorithm as in problem (c), except now we set different lambda values for $\\lambda$. Since the $\\lambda$ function accounts for the fact that policeholders may lapse by they should not, we can get optimal lapse when setting $\\underline\\lambda=0$, $\\overline\\lambda=+\\infty$. We can prove the model is now of optimal lapse as follows.\n",
    "\n",
    "after setting $\\underline\\lambda=0$, $\\overline\\lambda=+\\infty$, we have the longstaff-shwartz-like method as \n",
    "- At $T$,  $C_{T}^p = u^{mat}(t_n,X_{T})$\n",
    "- At $0\\leq t_k<T$, $C_{t_k}^p = \\exp\\left(-\\lambda^{D,p} \\Delta_{t_{k+1}}\\right) C_{t_{k+1}} - \\alpha*\\Delta_{t_{k+1}} + \\left(1-\\exp(-\\lambda^{D,p} \\Delta_{t_{k+1}})\\right) u^D(t_{k+1},X_{t_{k+1}})$\n",
    "\n",
    "where \n",
    "$\\lambda_{t_k}^{D,p}={+\\infty}$  if $u^D(t_k,X_{t_k}^p)<\\hat{u}(t_k,X_{t_k}^p)$; $\\quad \\lambda_{t_k}^{D,p}=0$ if $u^D(t_k,X_{t_k}^p)\\geq\\hat{u}(t_k,X_{t_k}^p)$, and $\\hat{u}(t_k,X_{t_k}^p)$ is the regression estimate。\n",
    "\n",
    "Set the optimal lapse time as $t_{opt}$. We know that $u^D=0$, and $u(t_k,X_{t_k}^p) = \\max(u^D,\\hat u(t_{k},X_{t_k}^p))$. Here we find the last optimal (lapse) exercise time from backward and ignore the difference between the first optimal lapse time and the last one. \n",
    "\n",
    "Before $t_{opt}$ at $t$, we have $u^D(t_k,X_{t_k}^p)< \\hat u(t_k,X_{t_k}^p)$, so the price formula becomes $C_{t_k} =  C_{t_{k+1}} - \\alpha*\\Delta_{t_{k+1}}$, showing the contract should continue. But if at time $t_{opt}$ we have $u^D(t_k,X_{t_k}^p) \\geq\\hat u(t_k,X_{t_k}^p)$, the price turns to \n",
    "$C_{t_k} =  - \\alpha*\\Delta_{t_{k+1}} + u^D(t_{k+1},X_{t_{k+1}})$, which is exactly the lapse value, showing the contract should be lapsed immediately (at the optimal lapse time). Thus in this way, we can price the contract under the optimal lapse time.\n"
   ]
  },
  {
   "cell_type": "markdown",
   "metadata": {},
   "source": [
    "<b>(b)</b> (Price uncertain lapse model with optimal exercise)\n",
    "\n",
    "By setting the lower-bound lambda to 0 and upper-bound lambda to infinity, we can get the optimal lapse and derive the price using the code in question 3."
   ]
  },
  {
   "cell_type": "code",
   "execution_count": 17,
   "metadata": {},
   "outputs": [
    {
     "name": "stdout",
     "output_type": "stream",
     "text": [
      "Optimal lapse contract price under Longstaff-Schwartz:  3.398156747639663\n"
     ]
    }
   ],
   "source": [
    "# Longstaff-Schwartz algorithm for Uncertain Mortality Rate Model\n",
    "S, vol, T = 100, 0.3, 10\n",
    "ts = np.linspace(0, T, int(np.round(T*12))+1)\n",
    "alpha = 3\n",
    "lambda_max, lambda_min = float(\"inf\"), 0  #use a very large number to denote infinity\n",
    "K_mat, K_D = 90.0, 0\n",
    "def u_mat(x):\n",
    "    return np.maximum(K_mat - x, 0)\n",
    "def u_D(x):\n",
    "    return np.maximum(K_D - x, 0)\n",
    "\n",
    "# first Monte Carlo run to estimate the value function by regressions\n",
    "npaths = 5000\n",
    "paths = blackscholes_mc(S=S, vol=vol, r=0, q=0, ts=ts, npaths=npaths)\n",
    "betas = np.zeros((len(ts), 2), dtype=np.float)\n",
    "V = u_mat(paths[-1])\n",
    "lambd = np.where(u_D(paths[-1]) >= V, lambda_max, lambda_min)\n",
    "K = 0.5*(K_mat+K_D)\n",
    "for i in range(len(ts)-2, 0, -1):\n",
    "    dt = ts[i+1]-ts[i]\n",
    "    p = 1-np.exp(-lambd*dt)\n",
    "    V = p*u_D(paths[i+1]) + (1-p)*V - alpha*dt\n",
    "    Z = blackscholes_price(K, ts[-1]-ts[i], paths[i], vol, callput='put')\n",
    "    A = np.vstack((np.ones_like(Z), Z)).T\n",
    "    betas[i] = np.linalg.lstsq(A, V, rcond=None)[0]\n",
    "    lambd = np.where(u_D(paths[i]) >= betas[i, 0]+betas[i, 1]*Z, lambda_max, lambda_min)\n",
    "\n",
    "# independent simulation to obtain a lower bound\n",
    "npaths = 100000\n",
    "paths = blackscholes_mc(S=S, vol=vol, r=0, q=0, ts=ts, npaths=npaths)\n",
    "V = u_mat(paths[-1])\n",
    "lambd = np.where(u_D(paths[-1]) >= V, lambda_max, lambda_min)\n",
    "K = 0.5*(K_mat+K_D)\n",
    "for i in range(len(ts)-2, -1, -1):\n",
    "    dt = ts[i+1]-ts[i]\n",
    "    p = 1-np.exp(-lambd*dt)\n",
    "    V = p*u_D(paths[i+1]) + (1-p)*V - alpha*dt\n",
    "    Z = blackscholes_price(K, ts[-1]-ts[i], paths[i], vol, callput='put')\n",
    "    lambd = np.where(u_D(paths[i]) >= betas[i, 0]+betas[i, 1]*Z, lambda_max, lambda_min)\n",
    "\n",
    "print(\"Optimal lapse contract price under Longstaff-Schwartz: \", np.mean(V))"
   ]
  },
  {
   "cell_type": "markdown",
   "metadata": {},
   "source": [
    "<b>(c)</b> (Price an American Option with $u^D=0$)\n",
    "\n",
    "To price the American option, we need to compare the exercise (lapse) value and the continuation value. To achieve this, we run the backward regression as before and then use forward (rather than backward as before) loop to compare each step and update the price. The final price is the average of all paths price."
   ]
  },
  {
   "cell_type": "markdown",
   "metadata": {},
   "source": [
    "__Remark Q4(c)__: Confused LS for American options and LS for reinsurance deals. There is no \\lambda in LS for American option pricing. Please see the algo in HW1 for reference. (-1)"
   ]
  },
  {
   "cell_type": "code",
   "execution_count": 18,
   "metadata": {},
   "outputs": [
    {
     "name": "stdout",
     "output_type": "stream",
     "text": [
      "American Option price under Longstaff-Schwartz:  3.4144817078232537\n"
     ]
    }
   ],
   "source": [
    "# Longstaff-Schwartz algorithm for American Option\n",
    "S, vol, T = 100, 0.3, 10\n",
    "ts = np.linspace(0, T, int(np.round(T*12))+1)\n",
    "alpha = 3\n",
    "lambda_max, lambda_min = float(\"inf\"), 0\n",
    "\n",
    "K_mat, K_D = 90.0, 0\n",
    "\n",
    "def u_mat(x):\n",
    "    return np.maximum(K_mat - x, 0)\n",
    "\n",
    "def u_D(x):\n",
    "    return np.maximum(K_D - x, 0)\n",
    "\n",
    "\n",
    "# first Monte Carlo run to estimate the value function by regressions\n",
    "npaths = 5000\n",
    "paths = blackscholes_mc(S=S, vol=vol, r=0, q=0, ts=ts, npaths=npaths)\n",
    "betas = np.zeros((len(ts), 2), dtype=np.float)\n",
    "V = u_mat(paths[-1])\n",
    "lambd = np.where(u_D(paths[-1]) >= V, lambda_max, lambda_min)\n",
    "\n",
    "K = 0.5*(K_mat+K_D)\n",
    "for i in range(len(ts)-2, 0, -1):\n",
    "    dt = ts[i+1]-ts[i]\n",
    "    p = 1-np.exp(-lambd*dt)\n",
    "    V = p*u_D(paths[i+1]) + (1-p)*V - alpha*dt\n",
    "    Z = blackscholes_price(K, ts[-1]-ts[i], paths[i], vol, callput='put')\n",
    "    A = np.vstack((np.ones_like(Z), Z)).T\n",
    "    betas[i] = np.linalg.lstsq(A, V, rcond=None)[0]\n",
    "    lambd = np.where(u_D(paths[i]) >= betas[i, 0]+betas[i, 1]*Z, lambda_max, lambda_min)\n",
    "\n",
    "\n",
    "# independent simulation to obtain a lower bound (from beginning to the end)\n",
    "npaths = 100000\n",
    "paths = blackscholes_mc(S=S, vol=vol, r=0, q=0, ts=ts, npaths=npaths)\n",
    "exer = np.zeros(npaths)\n",
    "V = np.zeros(npaths)  #initial price value\n",
    "for i in range(1, len(ts)):\n",
    "    if i==len(ts)-1:\n",
    "        exer_val = u_mat(paths[-1])\n",
    "        idx = (exer==0)\n",
    "        V[idx] = exer_val[idx]-alpha*ts[i]\n",
    "        break\n",
    "    \n",
    "    Z = blackscholes_price(K, ts[-1]-ts[i], paths[i], vol, callput='put')\n",
    "    cont_val = betas[i, 0]+betas[i, 1]*Z\n",
    "    #cont_val = sum([f(paths[i])*p for (f, p) in zip(fs, ps)])\n",
    "    exer_val = u_D(paths[i])\n",
    "    idx = (exer_val>cont_val) & (exer==0)\n",
    "    V[idx] = exer_val[idx]-alpha*ts[i]  #each time when exercised, we shall add on the payment fee in between\n",
    "    exer[idx] = 1 #udpate exercise status\n",
    "\n",
    "print(\"American Option price under Longstaff-Schwartz: \", np.mean(V))"
   ]
  },
  {
   "cell_type": "markdown",
   "metadata": {},
   "source": [
    "The price for monthly payment American Option in part (c) is almost the same (slightly higher) as the price for the price of uncertain lapse model in part (b)."
   ]
  },
  {
   "cell_type": "code",
   "execution_count": null,
   "metadata": {},
   "outputs": [],
   "source": []
  }
 ],
 "metadata": {
  "anaconda-cloud": {},
  "kernelspec": {
   "display_name": "Python 3",
   "language": "python",
   "name": "python3"
  },
  "language_info": {
   "codemirror_mode": {
    "name": "ipython",
    "version": 3
   },
   "file_extension": ".py",
   "mimetype": "text/x-python",
   "name": "python",
   "nbconvert_exporter": "python",
   "pygments_lexer": "ipython3",
   "version": "3.7.4"
  },
  "name": "Uncertain Mortality.ipynb"
 },
 "nbformat": 4,
 "nbformat_minor": 1
}
